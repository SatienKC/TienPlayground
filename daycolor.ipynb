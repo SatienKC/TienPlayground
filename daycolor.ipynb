{
 "cells": [
  {
   "cell_type": "code",
   "execution_count": 10,
   "metadata": {},
   "outputs": [],
   "source": [
    "dc ={'Mon':'Yellow','Tue':'pink','Wed':'green','Thu':'orange','Fri':'blue','Sat':'purple','Sun':'Red'}"
   ]
  },
  {
   "cell_type": "code",
   "execution_count": 11,
   "metadata": {},
   "outputs": [
    {
     "name": "stdout",
     "output_type": "stream",
     "text": [
      "day list:\n",
      "Mon\n",
      "Tue\n",
      "Wed\n",
      "Thu\n",
      "Fri\n",
      "Sat\n",
      "Sun\n",
      "\n",
      "\n",
      "Fri Day color is blue\n"
     ]
    }
   ],
   "source": [
    "print ('day list:')\n",
    "for i in dc.keys():\n",
    "    print (i)\n",
    "print('\\n')\n",
    "inputday = input('input the day: ')\n",
    "if inputday in dc.keys():\n",
    "    print(inputday,'Day color is',dc.get(inputday))\n",
    "else:\n",
    "    print ('invalid input')"
   ]
  },
  {
   "cell_type": "code",
   "execution_count": 23,
   "metadata": {},
   "outputs": [],
   "source": []
  },
  {
   "cell_type": "code",
   "execution_count": null,
   "metadata": {},
   "outputs": [],
   "source": []
  }
 ],
 "metadata": {
  "kernelspec": {
   "display_name": "ML",
   "language": "python",
   "name": "python3"
  },
  "language_info": {
   "codemirror_mode": {
    "name": "ipython",
    "version": 3
   },
   "file_extension": ".py",
   "mimetype": "text/x-python",
   "name": "python",
   "nbconvert_exporter": "python",
   "pygments_lexer": "ipython3",
   "version": "3.11.4"
  },
  "orig_nbformat": 4
 },
 "nbformat": 4,
 "nbformat_minor": 2
}
